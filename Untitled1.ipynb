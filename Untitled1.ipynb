{
 "cells": [
  {
   "cell_type": "code",
   "execution_count": 1,
   "id": "fa1bb2ee-fe05-4eaa-8948-522ef5a9dabc",
   "metadata": {},
   "outputs": [
    {
     "name": "stdout",
     "output_type": "stream",
     "text": [
      "Collecting pandas\n",
      "  Downloading pandas-2.3.1-cp312-cp312-manylinux_2_17_x86_64.manylinux2014_x86_64.whl.metadata (91 kB)\n",
      "Collecting numpy>=1.26.0 (from pandas)\n",
      "  Downloading numpy-2.3.1-cp312-cp312-manylinux_2_28_x86_64.whl.metadata (62 kB)\n",
      "Requirement already satisfied: python-dateutil>=2.8.2 in /opt/conda/lib/python3.12/site-packages (from pandas) (2.9.0.post0)\n",
      "Requirement already satisfied: pytz>=2020.1 in /opt/conda/lib/python3.12/site-packages (from pandas) (2024.2)\n",
      "Collecting tzdata>=2022.7 (from pandas)\n",
      "  Downloading tzdata-2025.2-py2.py3-none-any.whl.metadata (1.4 kB)\n",
      "Requirement already satisfied: six>=1.5 in /opt/conda/lib/python3.12/site-packages (from python-dateutil>=2.8.2->pandas) (1.17.0)\n",
      "Downloading pandas-2.3.1-cp312-cp312-manylinux_2_17_x86_64.manylinux2014_x86_64.whl (12.0 MB)\n",
      "\u001b[2K   \u001b[90m━━━━━━━━━━━━━━━━━━━━━━━━━━━━━━━━━━━━━━━━\u001b[0m \u001b[32m12.0/12.0 MB\u001b[0m \u001b[31m155.8 MB/s\u001b[0m eta \u001b[36m0:00:00\u001b[0m\n",
      "\u001b[?25hDownloading numpy-2.3.1-cp312-cp312-manylinux_2_28_x86_64.whl (16.6 MB)\n",
      "\u001b[2K   \u001b[90m━━━━━━━━━━━━━━━━━━━━━━━━━━━━━━━━━━━━━━━━\u001b[0m \u001b[32m16.6/16.6 MB\u001b[0m \u001b[31m187.5 MB/s\u001b[0m eta \u001b[36m0:00:00\u001b[0m\n",
      "\u001b[?25hDownloading tzdata-2025.2-py2.py3-none-any.whl (347 kB)\n",
      "Installing collected packages: tzdata, numpy, pandas\n",
      "Successfully installed numpy-2.3.1 pandas-2.3.1 tzdata-2025.2\n",
      "Requirement already satisfied: numpy in /opt/conda/lib/python3.12/site-packages (2.3.1)\n"
     ]
    }
   ],
   "source": [
    "!pip install pandas\n",
    "!pip install numpy"
   ]
  },
  {
   "cell_type": "code",
   "execution_count": 2,
   "id": "ad3dfcee-ad9a-4a3a-bc34-c1e5438cdb64",
   "metadata": {},
   "outputs": [],
   "source": [
    "# Pandas is a software library written for the Python programming language for data manipulation and analysis.\n",
    "import pandas as pd\n",
    "#NumPy is a library for the Python programming language, adding support for large, multi-dimensional arrays and matrices, along with a large collection of high-level mathematical functions to operate on these arrays\n",
    "import numpy as np"
   ]
  },
  {
   "cell_type": "code",
   "execution_count": 3,
   "id": "e756945a-96df-437a-a584-a0aa53566eee",
   "metadata": {},
   "outputs": [
    {
     "ename": "NameError",
     "evalue": "name 'df' is not defined",
     "output_type": "error",
     "traceback": [
      "\u001b[0;31m---------------------------------------------------------------------------\u001b[0m",
      "\u001b[0;31mNameError\u001b[0m                                 Traceback (most recent call last)",
      "Cell \u001b[0;32mIn[3], line 2\u001b[0m\n\u001b[1;32m      1\u001b[0m \u001b[38;5;66;03m# Assuming 'df' is your loaded DataFrame\u001b[39;00m\n\u001b[0;32m----> 2\u001b[0m missing_percentage \u001b[38;5;241m=\u001b[39m \u001b[43mdf\u001b[49m\u001b[38;5;241m.\u001b[39misnull()\u001b[38;5;241m.\u001b[39msum() \u001b[38;5;241m/\u001b[39m \u001b[38;5;28mlen\u001b[39m(df) \u001b[38;5;241m*\u001b[39m \u001b[38;5;241m100\u001b[39m\n\u001b[1;32m      3\u001b[0m \u001b[38;5;28mprint\u001b[39m(missing_percentage)\n",
      "\u001b[0;31mNameError\u001b[0m: name 'df' is not defined"
     ]
    }
   ],
   "source": [
    "# Assuming 'df' is your loaded DataFrame\n",
    "missing_percentage = df.isnull().sum() / len(df) * 100\n",
    "print(missing_percentage)"
   ]
  },
  {
   "cell_type": "code",
   "execution_count": 4,
   "id": "8c47252d-0c98-4e64-b59b-3a6d2cab646a",
   "metadata": {},
   "outputs": [
    {
     "name": "stdout",
     "output_type": "stream",
     "text": [
      "First 5 rows of the DataFrame:\n",
      "   FlightNumber        Date BoosterVersion  PayloadMass Orbit    LaunchSite  \\\n",
      "0             1  2010-06-04       Falcon 9  6104.959412   LEO  CCAFS SLC 40   \n",
      "1             2  2012-05-22       Falcon 9   525.000000   LEO  CCAFS SLC 40   \n",
      "2             3  2013-03-01       Falcon 9   677.000000   ISS  CCAFS SLC 40   \n",
      "3             4  2013-09-29       Falcon 9   500.000000    PO   VAFB SLC 4E   \n",
      "4             5  2013-12-03       Falcon 9  3170.000000   GTO  CCAFS SLC 40   \n",
      "\n",
      "       Outcome  Flights  GridFins  Reused   Legs LandingPad  Block  \\\n",
      "0    None None        1     False   False  False        NaN    1.0   \n",
      "1    None None        1     False   False  False        NaN    1.0   \n",
      "2    None None        1     False   False  False        NaN    1.0   \n",
      "3  False Ocean        1     False   False  False        NaN    1.0   \n",
      "4    None None        1     False   False  False        NaN    1.0   \n",
      "\n",
      "   ReusedCount Serial   Longitude   Latitude  \n",
      "0            0  B0003  -80.577366  28.561857  \n",
      "1            0  B0005  -80.577366  28.561857  \n",
      "2            0  B0007  -80.577366  28.561857  \n",
      "3            0  B1003 -120.610829  34.632093  \n",
      "4            0  B1004  -80.577366  28.561857  \n",
      "\n",
      "Percentage of missing values in each column:\n",
      "FlightNumber       0.000000\n",
      "Date               0.000000\n",
      "BoosterVersion     0.000000\n",
      "PayloadMass        0.000000\n",
      "Orbit              0.000000\n",
      "LaunchSite         0.000000\n",
      "Outcome            0.000000\n",
      "Flights            0.000000\n",
      "GridFins           0.000000\n",
      "Reused             0.000000\n",
      "Legs               0.000000\n",
      "LandingPad        28.888889\n",
      "Block              0.000000\n",
      "ReusedCount        0.000000\n",
      "Serial             0.000000\n",
      "Longitude          0.000000\n",
      "Latitude           0.000000\n",
      "dtype: float64\n",
      "\n",
      "Numerical columns:\n",
      "['FlightNumber', 'PayloadMass', 'Flights', 'Block', 'ReusedCount', 'Longitude', 'Latitude']\n",
      "\n",
      "Categorical columns:\n",
      "['Date', 'BoosterVersion', 'Orbit', 'LaunchSite', 'Outcome', 'LandingPad', 'Serial']\n"
     ]
    }
   ],
   "source": [
    "import pandas as pd\n",
    "import numpy as np # Make sure numpy is imported for select_dtypes with np.number\n",
    "\n",
    "# --- Step 1: Load the dataset into the DataFrame 'df' ---\n",
    "df = pd.read_csv(\"https://cf-courses-data.s3.us.cloud-object-storage.appdomain.cloud/IBM-DS0321EN-SkillsNetwork/datasets/dataset_part_1.csv\")\n",
    "\n",
    "# Display the first few rows to confirm it loaded\n",
    "print(\"First 5 rows of the DataFrame:\")\n",
    "print(df.head())\n",
    "\n",
    "# --- Step 2: Now you can perform operations on 'df' ---\n",
    "# Calculate the percentage of missing values in each attribute\n",
    "missing_percentage = df.isnull().sum() / len(df) * 100\n",
    "print(\"\\nPercentage of missing values in each column:\")\n",
    "print(missing_percentage)\n",
    "\n",
    "# Identify numerical and categorical columns\n",
    "numerical_cols = df.select_dtypes(include=np.number).columns.tolist()\n",
    "categorical_cols = df.select_dtypes(include='object').columns.tolist()\n",
    "\n",
    "print(\"\\nNumerical columns:\")\n",
    "print(numerical_cols)\n",
    "print(\"\\nCategorical columns:\")\n",
    "print(categorical_cols)"
   ]
  },
  {
   "cell_type": "code",
   "execution_count": 5,
   "id": "568583dd-5c19-4e5c-8a54-63de0abc20f2",
   "metadata": {},
   "outputs": [
    {
     "ename": "NameError",
     "evalue": "name 'data_falcon9' is not defined",
     "output_type": "error",
     "traceback": [
      "\u001b[0;31m---------------------------------------------------------------------------\u001b[0m",
      "\u001b[0;31mNameError\u001b[0m                                 Traceback (most recent call last)",
      "Cell \u001b[0;32mIn[5], line 4\u001b[0m\n\u001b[1;32m      1\u001b[0m \u001b[38;5;66;03m# Assuming data_falcon9 DataFrame is already available from previous steps\u001b[39;00m\n\u001b[1;32m      2\u001b[0m \n\u001b[1;32m      3\u001b[0m \u001b[38;5;66;03m# Calculate the number of launches on each site\u001b[39;00m\n\u001b[0;32m----> 4\u001b[0m launch_site_counts \u001b[38;5;241m=\u001b[39m \u001b[43mdata_falcon9\u001b[49m[\u001b[38;5;124m'\u001b[39m\u001b[38;5;124mLaunchSite\u001b[39m\u001b[38;5;124m'\u001b[39m]\u001b[38;5;241m.\u001b[39mvalue_counts()\n\u001b[1;32m      6\u001b[0m \u001b[38;5;28mprint\u001b[39m(\u001b[38;5;124m\"\u001b[39m\u001b[38;5;124mNumber of launches on each site:\u001b[39m\u001b[38;5;124m\"\u001b[39m)\n\u001b[1;32m      7\u001b[0m \u001b[38;5;28mprint\u001b[39m(launch_site_counts)\n",
      "\u001b[0;31mNameError\u001b[0m: name 'data_falcon9' is not defined"
     ]
    }
   ],
   "source": [
    "# Assuming data_falcon9 DataFrame is already available from previous steps\n",
    "\n",
    "# Calculate the number of launches on each site\n",
    "launch_site_counts = data_falcon9['LaunchSite'].value_counts()\n",
    "\n",
    "print(\"Number of launches on each site:\")\n",
    "print(launch_site_counts)"
   ]
  },
  {
   "cell_type": "code",
   "execution_count": 6,
   "id": "d9568690-1010-42b1-b3cf-04d377a27b12",
   "metadata": {},
   "outputs": [
    {
     "ename": "SyntaxError",
     "evalue": "invalid syntax (898748314.py, line 35)",
     "output_type": "error",
     "traceback": [
      "\u001b[0;36m  Cell \u001b[0;32mIn[6], line 35\u001b[0;36m\u001b[0m\n\u001b[0;31m    print(launch_site_counts)%%!\u001b[0m\n\u001b[0m                              ^\u001b[0m\n\u001b[0;31mSyntaxError\u001b[0m\u001b[0;31m:\u001b[0m invalid syntax\n"
     ]
    }
   ],
   "source": [
    "import pandas as pd\n",
    "import numpy as np\n",
    "import datetime\n",
    "\n",
    "# --- Re-create final_data (as this is where data_falcon9 originates from) ---\n",
    "# Assuming 'final_data' is created through the full API data collection process.\n",
    "# For demonstration purposes, let's load dataset_part_1.csv which is effectively data_falcon9\n",
    "# from the previous lab's export, and serves the same purpose for this task.\n",
    "# In a real scenario, 'final_data' would be the output of your Task 1's API calls.\n",
    "\n",
    "# Load dataset_part_1.csv which contains only Falcon 9 launches (after filtering)\n",
    "# This acts as the 'data_falcon9' we need for this specific task.\n",
    "df = pd.read_csv(\"https://cf-courses-data.s3.us.cloud-object-storage.appdomain.cloud/IBM-DS0321EN-SkillsNetwork/datasets/dataset_part_1.csv\")\n",
    "\n",
    "# From the context provided, `df` already represents `data_falcon9` after all previous filtering and cleaning.\n",
    "# So we can just use `df` directly, or rename it for clarity.\n",
    "data_falcon9 = df\n",
    "\n",
    "print(\"First 5 rows of the `data_falcon9` (which is loaded as `df`):\")\n",
    "print(data_falcon9.head())\n",
    "\n",
    "print(\"\\nPercentage of missing values in `data_falcon9` (as loaded from CSV):\")\n",
    "print(data_falcon9.isnull().sum() / len(data_falcon9) * 100)\n",
    "\n",
    "print(\"\\nNumerical columns of `data_falcon9`:\")\n",
    "print(data_falcon9.select_dtypes(include=np.number).columns.tolist())\n",
    "\n",
    "print(\"\\nCategorical columns of `data_falcon9`:\")\n",
    "print(data_falcon9.select_dtypes(include='object').columns.tolist())\n",
    "\n",
    "# --- Calculate the number of launches on each site ---\n",
    "launch_site_counts = data_falcon9['LaunchSite'].value_counts()\n",
    "\n",
    "print(\"\\nNumber of launches on each site:\")\n",
    "print(launch_site_counts)%%!"
   ]
  },
  {
   "cell_type": "code",
   "execution_count": 7,
   "id": "ac480f09-d0ee-448e-9df5-b97147274a2e",
   "metadata": {
    "scrolled": true
   },
   "outputs": [
    {
     "name": "stdout",
     "output_type": "stream",
     "text": [
      "First 5 rows of the `data_falcon9` (which is loaded as `df`):\n",
      "   FlightNumber        Date BoosterVersion  PayloadMass Orbit    LaunchSite  \\\n",
      "0             1  2010-06-04       Falcon 9  6104.959412   LEO  CCAFS SLC 40   \n",
      "1             2  2012-05-22       Falcon 9   525.000000   LEO  CCAFS SLC 40   \n",
      "2             3  2013-03-01       Falcon 9   677.000000   ISS  CCAFS SLC 40   \n",
      "3             4  2013-09-29       Falcon 9   500.000000    PO   VAFB SLC 4E   \n",
      "4             5  2013-12-03       Falcon 9  3170.000000   GTO  CCAFS SLC 40   \n",
      "\n",
      "       Outcome  Flights  GridFins  Reused   Legs LandingPad  Block  \\\n",
      "0    None None        1     False   False  False        NaN    1.0   \n",
      "1    None None        1     False   False  False        NaN    1.0   \n",
      "2    None None        1     False   False  False        NaN    1.0   \n",
      "3  False Ocean        1     False   False  False        NaN    1.0   \n",
      "4    None None        1     False   False  False        NaN    1.0   \n",
      "\n",
      "   ReusedCount Serial   Longitude   Latitude  \n",
      "0            0  B0003  -80.577366  28.561857  \n",
      "1            0  B0005  -80.577366  28.561857  \n",
      "2            0  B0007  -80.577366  28.561857  \n",
      "3            0  B1003 -120.610829  34.632093  \n",
      "4            0  B1004  -80.577366  28.561857  \n",
      "\n",
      "Percentage of missing values in `data_falcon9` (as loaded from CSV):\n",
      "FlightNumber       0.000000\n",
      "Date               0.000000\n",
      "BoosterVersion     0.000000\n",
      "PayloadMass        0.000000\n",
      "Orbit              0.000000\n",
      "LaunchSite         0.000000\n",
      "Outcome            0.000000\n",
      "Flights            0.000000\n",
      "GridFins           0.000000\n",
      "Reused             0.000000\n",
      "Legs               0.000000\n",
      "LandingPad        28.888889\n",
      "Block              0.000000\n",
      "ReusedCount        0.000000\n",
      "Serial             0.000000\n",
      "Longitude          0.000000\n",
      "Latitude           0.000000\n",
      "dtype: float64\n",
      "\n",
      "Numerical columns of `data_falcon9`:\n",
      "['FlightNumber', 'PayloadMass', 'Flights', 'Block', 'ReusedCount', 'Longitude', 'Latitude']\n",
      "\n",
      "Categorical columns of `data_falcon9`:\n",
      "['Date', 'BoosterVersion', 'Orbit', 'LaunchSite', 'Outcome', 'LandingPad', 'Serial']\n",
      "\n",
      "Number of launches on each site:\n",
      "LaunchSite\n",
      "CCAFS SLC 40    55\n",
      "KSC LC 39A      22\n",
      "VAFB SLC 4E     13\n",
      "Name: count, dtype: int64\n"
     ]
    }
   ],
   "source": [
    "import pandas as pd\n",
    "import numpy as np\n",
    "import datetime\n",
    "\n",
    "# --- Re-create final_data (as this is where data_falcon9 originates from) ---\n",
    "# Assuming 'final_data' is created through the full API data collection process.\n",
    "# For demonstration purposes, let's load dataset_part_1.csv which is effectively data_falcon9\n",
    "# from the previous lab's export, and serves the same purpose for this task.\n",
    "# In a real scenario, 'final_data' would be the output of your Task 1's API calls.\n",
    "\n",
    "# Load dataset_part_1.csv which contains only Falcon 9 launches (after filtering)\n",
    "# This acts as the 'data_falcon9' we need for this specific task.\n",
    "df = pd.read_csv(\"https://cf-courses-data.s3.us.cloud-object-storage.appdomain.cloud/IBM-DS0321EN-SkillsNetwork/datasets/dataset_part_1.csv\")\n",
    "\n",
    "# From the context provided, `df` already represents `data_falcon9` after all previous filtering and cleaning.\n",
    "# So we can just use `df` directly, or rename it for clarity.\n",
    "data_falcon9 = df\n",
    "\n",
    "print(\"First 5 rows of the `data_falcon9` (which is loaded as `df`):\")\n",
    "print(data_falcon9.head())\n",
    "\n",
    "print(\"\\nPercentage of missing values in `data_falcon9` (as loaded from CSV):\")\n",
    "print(data_falcon9.isnull().sum() / len(data_falcon9) * 100)\n",
    "\n",
    "print(\"\\nNumerical columns of `data_falcon9`:\")\n",
    "print(data_falcon9.select_dtypes(include=np.number).columns.tolist())\n",
    "\n",
    "print(\"\\nCategorical columns of `data_falcon9`:\")\n",
    "print(data_falcon9.select_dtypes(include='object').columns.tolist())\n",
    "\n",
    "# --- Calculate the number of launches on each site ---\n",
    "launch_site_counts = data_falcon9['LaunchSite'].value_counts()\n",
    "\n",
    "print(\"\\nNumber of launches on each site:\")\n",
    "print(launch_site_counts)"
   ]
  },
  {
   "cell_type": "code",
   "execution_count": 9,
   "id": "c7dcd813-f611-4cd4-8bb4-f5d798b938b6",
   "metadata": {},
   "outputs": [
    {
     "name": "stdout",
     "output_type": "stream",
     "text": [
      "Number and occurrence of each mission outcome:\n",
      "Outcome\n",
      "True ASDS      41\n",
      "None None      19\n",
      "True RTLS      14\n",
      "False ASDS      6\n",
      "True Ocean      5\n",
      "False Ocean     2\n",
      "None ASDS       2\n",
      "False RTLS      1\n",
      "Name: count, dtype: int64\n"
     ]
    }
   ],
   "source": [
    "# Assuming data_falcon9 DataFrame is available\n",
    "\n",
    "# Calculate the number and occurrence of each mission outcome\n",
    "landing_outcomes = data_falcon9['Outcome'].value_counts()\n",
    "\n",
    "print(\"Number and occurrence of each mission outcome:\")\n",
    "print(landing_outcomes)"
   ]
  },
  {
   "cell_type": "code",
   "execution_count": 10,
   "id": "9d827253-fa56-4cbd-8729-4726527703a3",
   "metadata": {},
   "outputs": [],
   "source": [
    "bad_outcome = {'False Ocean', 'None None', 'False ASDS', 'False RTLS'}\n",
    "good_outcome = {'True RTLS', 'True ASDS', 'True Ocean', 'None ASDS'}"
   ]
  },
  {
   "cell_type": "code",
   "execution_count": 14,
   "id": "4d4d69db-6ed1-4514-8b8a-a4d0bc034982",
   "metadata": {},
   "outputs": [],
   "source": [
    "# Define the sets of bad and good outcomes\n",
    "bad_outcome = {'False Ocean', 'None None', 'False ASDS', 'False RTLS'}\n",
    "good_outcome = {'True RTLS', 'True ASDS', 'True Ocean', 'None ASDS'} # Including 'None ASDS' as a successful outcome based on common interpretations in these labs\n",
    "\n",
    "# Create the landing_class list\n",
    "landing_class = []\n",
    "for outcome in data_falcon9['Outcome']:\n",
    "    if outcome in bad_outcome:\n",
    "        landing_class.append(0) # 0 for unsuccessful landing\n",
    "    elif outcome in good_outcome:\n",
    "        landing_class.append(1) # 1 for successful landing\n",
    "    else:\n",
    "        # Handle any outcomes not explicitly in bad_outcome or good_outcome.\n",
    "        # For this dataset, all outcomes should fall into one of these.\n",
    "        landing_class.append(np.nan) # Append NaN for any unhandled cases to identify them"
   ]
  },
  {
   "cell_type": "code",
   "execution_count": 15,
   "id": "a7c04067-fdb5-460b-b8c3-a9f3acfcdaf2",
   "metadata": {},
   "outputs": [
    {
     "name": "stdout",
     "output_type": "stream",
     "text": [
      "First 8 rows of the 'Class' column:\n",
      "   Class\n",
      "0      0\n",
      "1      0\n",
      "2      0\n",
      "3      0\n",
      "4      0\n",
      "5      0\n",
      "6      1\n",
      "7      1\n",
      "\n",
      "First 5 rows of the DataFrame with the new 'Class' column:\n",
      "   FlightNumber        Date BoosterVersion  PayloadMass Orbit    LaunchSite  \\\n",
      "0             1  2010-06-04       Falcon 9  6104.959412   LEO  CCAFS SLC 40   \n",
      "1             2  2012-05-22       Falcon 9   525.000000   LEO  CCAFS SLC 40   \n",
      "2             3  2013-03-01       Falcon 9   677.000000   ISS  CCAFS SLC 40   \n",
      "3             4  2013-09-29       Falcon 9   500.000000    PO   VAFB SLC 4E   \n",
      "4             5  2013-12-03       Falcon 9  3170.000000   GTO  CCAFS SLC 40   \n",
      "\n",
      "       Outcome  Flights  GridFins  Reused   Legs LandingPad  Block  \\\n",
      "0    None None        1     False   False  False        NaN    1.0   \n",
      "1    None None        1     False   False  False        NaN    1.0   \n",
      "2    None None        1     False   False  False        NaN    1.0   \n",
      "3  False Ocean        1     False   False  False        NaN    1.0   \n",
      "4    None None        1     False   False  False        NaN    1.0   \n",
      "\n",
      "   ReusedCount Serial   Longitude   Latitude  Class  \n",
      "0            0  B0003  -80.577366  28.561857      0  \n",
      "1            0  B0005  -80.577366  28.561857      0  \n",
      "2            0  B0007  -80.577366  28.561857      0  \n",
      "3            0  B1003 -120.610829  34.632093      0  \n",
      "4            0  B1004  -80.577366  28.561857      0  \n"
     ]
    }
   ],
   "source": [
    "# Add the landing_class as a new column named 'Class' to the DataFrame\n",
    "# Assuming 'df' is the DataFrame loaded from 'dataset_part_1.csv'\n",
    "df['Class'] = landing_class\n",
    "\n",
    "# Display the first 8 rows of the 'Class' column\n",
    "print(\"First 8 rows of the 'Class' column:\")\n",
    "print(df[['Class']].head(8))\n",
    "\n",
    "# Display the first 5 rows of the entire DataFrame\n",
    "print(\"\\nFirst 5 rows of the DataFrame with the new 'Class' column:\")\n",
    "print(df.head(5))"
   ]
  },
  {
   "cell_type": "code",
   "execution_count": 16,
   "id": "b0d0bba3-4e5a-49c1-905d-92c6ed2378f1",
   "metadata": {},
   "outputs": [
    {
     "name": "stdout",
     "output_type": "stream",
     "text": [
      "\n",
      "The overall success rate of Falcon 9 launches is: 0.69\n"
     ]
    }
   ],
   "source": [
    "# Calculate the success rate (mean of the 'Class' column)\n",
    "success_rate = df[\"Class\"].mean()\n",
    "print(f\"\\nThe overall success rate of Falcon 9 launches is: {success_rate:.2f}\")"
   ]
  },
  {
   "cell_type": "code",
   "execution_count": 17,
   "id": "18928cf9-5ff9-4e3f-a7b4-522092198bc2",
   "metadata": {},
   "outputs": [
    {
     "name": "stdout",
     "output_type": "stream",
     "text": [
      "\n",
      "DataFrame exported to 'dataset_part_2.csv' successfully! 🎉\n"
     ]
    }
   ],
   "source": [
    "# Export the DataFrame to a CSV file\n",
    "df.to_csv(\"dataset_part_2.csv\", index=False)\n",
    "print(\"\\nDataFrame exported to 'dataset_part_2.csv' successfully! 🎉\")"
   ]
  },
  {
   "cell_type": "code",
   "execution_count": 18,
   "id": "bcd282e0-117d-4f8a-bde5-81840433eee3",
   "metadata": {},
   "outputs": [
    {
     "name": "stdout",
     "output_type": "stream",
     "text": [
      "The number of mission outcomes successfully landed to a drone ship is: 41\n"
     ]
    }
   ],
   "source": [
    "# Assuming 'df' is your DataFrame containing the 'Outcome' column\n",
    "# Count the occurrences of 'True ASDS'\n",
    "successful_drone_ship_landings = df[df['Outcome'] == 'True ASDS'].shape[0]\n",
    "\n",
    "print(f\"The number of mission outcomes successfully landed to a drone ship is: {successful_drone_ship_landings}\")"
   ]
  }
 ],
 "metadata": {
  "kernelspec": {
   "display_name": "Python 3 (ipykernel)",
   "language": "python",
   "name": "python3"
  },
  "language_info": {
   "codemirror_mode": {
    "name": "ipython",
    "version": 3
   },
   "file_extension": ".py",
   "mimetype": "text/x-python",
   "name": "python",
   "nbconvert_exporter": "python",
   "pygments_lexer": "ipython3",
   "version": "3.12.8"
  }
 },
 "nbformat": 4,
 "nbformat_minor": 5
}
